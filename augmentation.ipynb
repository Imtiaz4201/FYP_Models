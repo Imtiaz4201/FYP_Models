{
 "cells": [
  {
   "cell_type": "code",
   "execution_count": null,
   "metadata": {},
   "outputs": [],
   "source": [
    "import numpy as np \n",
    "import pandas as pd \n",
    "import matplotlib.pyplot as plt \n",
    "import cv2 \n",
    "import os\n",
    "import sys\n",
    "import re\n",
    "import random\n",
    "import xml.etree.ElementTree as ET\n",
    "import albumentations as A\n",
    "import pandas as pd"
   ]
  },
  {
   "cell_type": "code",
   "execution_count": null,
   "metadata": {},
   "outputs": [],
   "source": [
    "def count_class_distribution(path):\n",
    "    classes = {}\n",
    "    root_path = os.getcwd()\n",
    "\n",
    "    def plot(data):\n",
    "        labels, counts = zip(*data.items())\n",
    "        plt.figure(figsize=(6, 4))\n",
    "        bars = plt.bar(labels, counts, color='green')\n",
    "        plt.xlabel('Class Labels')\n",
    "        plt.ylabel('Count')\n",
    "        plt.title('Class Distribution')\n",
    "        for bar, count in zip(bars, counts):\n",
    "            plt.text(bar.get_x() + bar.get_width() / 2 - 0.1, bar.get_height() + 0, str(count), ha='center', va='bottom')\n",
    "        plt.tight_layout()\n",
    "        plt.show()\n",
    "\n",
    "    if os.path.exists(os.path.join(root_path, path)):\n",
    "        for root_dir, dirs, files in os.walk(os.path.join(os.path.join(root_path, path))):\n",
    "            for filename in files:\n",
    "                xml_path = os.path.join(root_dir, filename)\n",
    "                if xml_path.endswith(\".xml\"):\n",
    "                    tree = ET.parse(xml_path)\n",
    "                    root_xml = tree.getroot()\n",
    "\n",
    "                    for obj in root_xml.findall('.//object'):\n",
    "                        class_label = obj.find('name').text\n",
    "\n",
    "                        if class_label in classes:\n",
    "                            classes[class_label] += 1\n",
    "                        else:\n",
    "                            classes[class_label] = 1\n",
    "        plot(classes)\n",
    "    else:\n",
    "        print(\"Path does not exist\")\n",
    "\n",
    "count_class_distribution(\"data/labels/train\")"
   ]
  },
  {
   "cell_type": "code",
   "execution_count": null,
   "metadata": {},
   "outputs": [],
   "source": [
    "xml_files = []\n",
    "for (r,d,f) in os.walk(\"data\\\\labels\\\\train\"):\n",
    "    for i in f:\n",
    "        if i.endswith(\".xml\"):\n",
    "            xml_files.append(\n",
    "                os.path.join(r,i)\n",
    "            )\n",
    "xml_files"
   ]
  },
  {
   "cell_type": "code",
   "execution_count": null,
   "metadata": {},
   "outputs": [],
   "source": [
    "def get_class(xml_files, class_name):\n",
    "    valid_files = []\n",
    "    # Loop through all files in the directory\n",
    "    for file_path in xml_files:\n",
    "        # Parse the XML file\n",
    "        tree = ET.parse(file_path)\n",
    "        root = tree.getroot()\n",
    "        # Get all object classes in the file\n",
    "        classes = set(\n",
    "            [obj.find('name').text for obj in root.findall('object')])\n",
    "        # Check if the file contains only 'tm', 'tnb', or 'other' classes\n",
    "        if classes.issubset({class_name}):\n",
    "            if len(root.findall('object')) <=1:\n",
    "            # Store the file path and class labels\n",
    "                for class_label in classes:\n",
    "                    valid_files.append({\"image\": root.find(\"path\").text, 'annot': os.path.join(\n",
    "                        os.getcwd(), file_path), 'Class': class_label})\n",
    "\n",
    "    # Create a pandas DataFrame from the valid files\n",
    "    df = pd.DataFrame(valid_files)\n",
    "    return df"
   ]
  },
  {
   "cell_type": "code",
   "execution_count": null,
   "metadata": {},
   "outputs": [],
   "source": [
    "df_tm = get_class(xml_files, \"tm\")\n",
    "df_tnb = get_class(xml_files, \"tnb\")\n",
    "df_other = get_class(xml_files, \"other\")"
   ]
  },
  {
   "cell_type": "code",
   "execution_count": null,
   "metadata": {},
   "outputs": [],
   "source": [
    "df_tm.head()"
   ]
  },
  {
   "cell_type": "code",
   "execution_count": null,
   "metadata": {},
   "outputs": [],
   "source": [
    "df_tnb.head()"
   ]
  },
  {
   "cell_type": "code",
   "execution_count": null,
   "metadata": {},
   "outputs": [],
   "source": [
    "df_other.head()"
   ]
  },
  {
   "cell_type": "code",
   "execution_count": null,
   "metadata": {},
   "outputs": [],
   "source": [
    "print(f\"tm length = {df_tm.shape}\")\n",
    "print(f\"tnb length = {df_tnb.shape}\")\n",
    "print(f\"other length = {df_other.shape}\")"
   ]
  },
  {
   "cell_type": "code",
   "execution_count": null,
   "metadata": {},
   "outputs": [],
   "source": [
    "\n",
    "def augment_image_with_xml(image_path: str, xml_path: str, ip: str, ap: str, c: int, class_name: str, rm: list):\n",
    "    image = cv2.imread(image_path)\n",
    "    image = cv2.cvtColor(image, cv2.COLOR_BGR2RGB)\n",
    "\n",
    "    tree = ET.parse(xml_path)\n",
    "    root = tree.getroot()\n",
    "\n",
    "    # Find and remove objects with name\n",
    "    for obj in root.findall('object'):\n",
    "        name = obj.find('name').text\n",
    "        if name in rm:\n",
    "            root.remove(obj)\n",
    "\n",
    "    bounding_boxes = []\n",
    "    for obj in root.findall('.//object'):\n",
    "        xmin = int(obj.find('bndbox/xmin').text)\n",
    "        ymin = int(obj.find('bndbox/ymin').text)\n",
    "        xmax = int(obj.find('bndbox/xmax').text)\n",
    "        ymax = int(obj.find('bndbox/ymax').text)\n",
    "        bounding_boxes.append([xmin, ymin, xmax, ymax])\n",
    "\n",
    "    bbox_params = A.BboxParams(\n",
    "        format='pascal_voc', min_area=0, min_visibility=0, label_fields=['category_id'])\n",
    "    rotation = random.choice([(-5, 5), (-10,10)])\n",
    "    augmentation = A.Compose([\n",
    "        A.HorizontalFlip(p=.8),\n",
    "        A.Rotate(limit=rotation, border_mode=4,\n",
    "                 value=None, mask_value=None, p=.8)\n",
    "    ], bbox_params=bbox_params)\n",
    "\n",
    "    augmented = augmentation(image=image, bboxes=bounding_boxes, category_id=[\n",
    "                             1]*len(bounding_boxes))\n",
    "    augmented_image = augmented['image']\n",
    "    augmented_boxes = augmented['bboxes']\n",
    "\n",
    "    for obj, new_bbox in zip(root.findall('.//object'), augmented_boxes):\n",
    "        obj.find('bndbox/xmin').text = str(int(new_bbox[0]))\n",
    "        obj.find('bndbox/ymin').text = str(int(new_bbox[1]))\n",
    "        obj.find('bndbox/xmax').text = str(int(new_bbox[2]))\n",
    "        obj.find('bndbox/ymax').text = str(int(new_bbox[3]))\n",
    "\n",
    "    image_name = re.findall(re.compile(r\"[a-zA-Z-0-9\\._]+\"), image_path)\n",
    "    imgName = image_name[-1].split('.')\n",
    "    imgName = imgName[0] + \"_AUG_set1\" + class_name + str(c) + '.'+imgName[1]\n",
    "    image_name[-1] = imgName\n",
    "    image_name = os.path.join(*image_name)\n",
    "\n",
    "    xmal_name = re.findall(re.compile(r\"[a-zA-Z-0-9\\._]+\"), xml_path)\n",
    "    xmalName = xmal_name[-1].split('.')\n",
    "    xmalName = xmalName[0] + \"_AUG_set1\" + class_name + str(c) + '.'+xmalName[1]\n",
    "    xmal_name[-1] = xmalName\n",
    "    xmal_name = os.path.join(*xmal_name)\n",
    "\n",
    "    output_image_path = os.path.join(ip, os.path.basename(image_name))\n",
    "    output_xml_path = os.path.join(ap, os.path.basename(xmal_name))\n",
    "    cv2.imwrite(output_image_path, cv2.cvtColor(\n",
    "        augmented_image, cv2.COLOR_RGB2BGR))\n",
    "    tree.write(output_xml_path)\n",
    "\n",
    "\n",
    "def apply_augment(df, image_save_path, annot_save_path, loop, class_name, rm_class):\n",
    "    df = df.reset_index().drop('index', axis=1)\n",
    "    root_path = os.getcwd()\n",
    "    if os.path.exists(os.path.join(root_path, image_save_path)) and os.path.exists(os.path.join(root_path, annot_save_path)):\n",
    "        for i in range(df.shape[0]):\n",
    "            data_ = df.iloc[i, :]\n",
    "            image_path = data_['image']\n",
    "            xml_path = data_['annot']\n",
    "            for j in range(loop):\n",
    "                augment_image_with_xml(\n",
    "                    image_path, xml_path, image_save_path, annot_save_path, j, class_name, rm_class)\n",
    "\n",
    "        print(\"annotation done\")"
   ]
  },
  {
   "cell_type": "code",
   "execution_count": null,
   "metadata": {},
   "outputs": [],
   "source": [
    "apply_augment(df_tm, 'data/images/train',\n",
    "              'data/labels/train', 3, \"tm\", [\"tnb\", \"other\"])\n",
    "apply_augment(df_other, 'data/images/train',\n",
    "              'data/labels/train', 5, \"other\", [\"tm\", \"tnb\"])\n",
    "apply_augment(df_tnb, 'data/images/train','data/labels/train', 7, \"tnb\", [\"tm\", \"other\"])"
   ]
  },
  {
   "cell_type": "code",
   "execution_count": null,
   "metadata": {},
   "outputs": [],
   "source": [
    "def remove_augmentaed_data(path):\n",
    "    root_path = os.path.join(os.getcwd(), path)\n",
    "    for root, dirs, files in os.walk(root_path):\n",
    "        for i in files:\n",
    "            if \"AUG\" in i:\n",
    "                os.remove(os.path.join(root, i))\n",
    "remove_augmentaed_data('data/images/train')\n",
    "remove_augmentaed_data('data/labels/train')"
   ]
  },
  {
   "cell_type": "code",
   "execution_count": null,
   "metadata": {},
   "outputs": [],
   "source": [
    "def change_xml_filename(path, image_path):\n",
    "    '''\n",
    "        path: xml folder location\n",
    "        image_path: image path, to be written in xml's <filename>  (relative path only)\n",
    "    '''\n",
    "    images = []\n",
    "    for root, dirs, files in os.walk(os.path.join(os.getcwd(), image_path)):\n",
    "        for i in files:\n",
    "            images.append(i)\n",
    "    root_path = os.getcwd()\n",
    "    if os.path.exists(os.path.join(root_path, path)):\n",
    "        for root_dir, dirs, files in os.walk(os.path.join(root_path, path)):\n",
    "            for i in files:\n",
    "                if i.endswith(\".xml\"):\n",
    "                    xml_file_path = os.path.join(root_dir, i)\n",
    "                    tree = ET.parse(xml_file_path)\n",
    "                    root_xml = tree.getroot()  # Change the variable name to avoid conflict\n",
    "                    filename_element = root_xml.find('filename')\n",
    "                    if filename_element is not None:\n",
    "                        n = i.split('.')[0]\n",
    "                        ext = [i for i in images if n in i][0].split('.')[-1]\n",
    "                        n = i.split('.')[0] + '.' +ext\n",
    "                        filename_element.text = n\n",
    "                    else:\n",
    "                        print(\"Element 'filename' not found in the XML file.\")\n",
    "                    tree.write(xml_file_path)"
   ]
  },
  {
   "cell_type": "code",
   "execution_count": null,
   "metadata": {},
   "outputs": [],
   "source": [
    "change_xml_filename(\"data/labels/train\", \"data/images/train\")"
   ]
  },
  {
   "cell_type": "code",
   "execution_count": null,
   "metadata": {},
   "outputs": [],
   "source": [
    "def change_xml_path(path, image_path):\n",
    "    '''\n",
    "        path: xml folder location\n",
    "        image_path: image path, to be written in xml's <path>  (relative path only)\n",
    "    '''\n",
    "    root_path = os.getcwd()\n",
    "    if os.path.exists(os.path.join(root_path, path)):\n",
    "        for root_dir, dirs, files in os.walk(os.path.join(root_path, path)):\n",
    "            for i in files:\n",
    "                if i.endswith(\".xml\"):\n",
    "                    xml_file_path = os.path.join(root_dir, i)\n",
    "                    tree = ET.parse(xml_file_path)\n",
    "                    root_xml = tree.getroot()  # Change the variable name to avoid conflict\n",
    "                    path_element = root_xml.find('path')\n",
    "                    filename_element = root_xml.find('filename')\n",
    "                    if path_element is not None:\n",
    "                        image_path_ = os.path.join(os.getcwd(),image_path, filename_element.text)\n",
    "                        path_element.text = image_path_\n",
    "                    else:\n",
    "                        print(\"Element 'filename' not found in the XML file.\")\n",
    "                    tree.write(xml_file_path)"
   ]
  },
  {
   "cell_type": "code",
   "execution_count": null,
   "metadata": {},
   "outputs": [],
   "source": [
    "change_xml_path(\"data/labels/train\", \"data/images/train\")\n",
    "change_xml_path(\"data/labels/test\", \"data/images/test\")\n",
    "change_xml_path(\"data/labels/val\", \"data/images/val\")"
   ]
  }
 ],
 "metadata": {
  "kernelspec": {
   "display_name": "tf_cpu",
   "language": "python",
   "name": "python3"
  },
  "language_info": {
   "codemirror_mode": {
    "name": "ipython",
    "version": 3
   },
   "file_extension": ".py",
   "mimetype": "text/x-python",
   "name": "python",
   "nbconvert_exporter": "python",
   "pygments_lexer": "ipython3",
   "version": "3.9.18"
  }
 },
 "nbformat": 4,
 "nbformat_minor": 2
}
